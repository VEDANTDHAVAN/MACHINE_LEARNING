{
 "cells": [
  {
   "cell_type": "markdown",
   "metadata": {},
   "source": [
    "NUMPY ARRAY OPERATIONS"
   ]
  },
  {
   "cell_type": "code",
   "execution_count": 1,
   "metadata": {},
   "outputs": [],
   "source": [
    "import numpy as np"
   ]
  },
  {
   "cell_type": "code",
   "execution_count": 3,
   "metadata": {},
   "outputs": [
    {
     "name": "stdout",
     "output_type": "stream",
     "text": [
      "Basic slicing:  [3 4]\n",
      "With step:  [2 4 6]\n",
      "Negative Indexing:  4\n"
     ]
    }
   ],
   "source": [
    "arr = np.array([1,2,3,4,5,6])\n",
    "print(\"Basic slicing: \", arr[2:4])\n",
    "\n",
    "print(\"With step: \", arr[1:6:2])\n",
    "print(\"Negative Indexing: \", arr[-3])"
   ]
  },
  {
   "cell_type": "code",
   "execution_count": 9,
   "metadata": {},
   "outputs": [
    {
     "name": "stdout",
     "output_type": "stream",
     "text": [
      "Specific Element:  6\n",
      "Entire row:  [7 8 9]\n",
      "Entire column:  [2 5 8]\n"
     ]
    }
   ],
   "source": [
    "arr_2d = np.array([[1,2,3], [4,5,6], [7,8,9]])\n",
    "print(\"Specific Element: \", arr_2d[1,2])\n",
    "print(\"Entire row: \", arr_2d[2])\n",
    "print(\"Entire column: \", arr_2d[:,1])"
   ]
  },
  {
   "cell_type": "markdown",
   "metadata": {},
   "source": [
    "## Sorting"
   ]
  },
  {
   "cell_type": "code",
   "execution_count": 12,
   "metadata": {},
   "outputs": [
    {
     "name": "stdout",
     "output_type": "stream",
     "text": [
      "Sorted Array:  [0 0 1 2 3 5 6 7 9]\n",
      "Sorted 2D array by column:  [[2 1]\n",
      " [2 5]\n",
      " [3 6]]\n",
      "Sorted 2D array by row:  [[3 5]\n",
      " [2 6]\n",
      " [1 2]]\n"
     ]
    }
   ],
   "source": [
    "unsorted = np.array([3,7,2,0,5,9,1,6,0])\n",
    "print(\"Sorted Array: \", np.sort(unsorted))\n",
    "\n",
    "arr_2d_unsorted = np.array([[3,5], [2,6], [2,1]])\n",
    "print(\"Sorted 2D array by column: \", np.sort(arr_2d_unsorted, axis=0))\n",
    "print(\"Sorted 2D array by row: \", np.sort(arr_2d_unsorted, axis=1))"
   ]
  },
  {
   "cell_type": "markdown",
   "metadata": {},
   "source": [
    "## FILTER"
   ]
  },
  {
   "cell_type": "code",
   "execution_count": 17,
   "metadata": {},
   "outputs": [
    {
     "name": "stdout",
     "output_type": "stream",
     "text": [
      "Even Nums:  [ 2  4  6  8 10]\n",
      "Odd Nums:  [1 3 5 7 9]\n",
      "Nums > 5:  [ 6  7  8  9 10]\n"
     ]
    }
   ],
   "source": [
    "nums = np.array([1,2,3,4,5,6,7,8,9,10])\n",
    "even_nums = nums[nums%2 == 0]\n",
    "print(\"Even Nums: \",even_nums)\n",
    "odd_nums = nums[nums%2 != 0]\n",
    "print(\"Odd Nums: \", odd_nums)\n",
    "\n",
    "# Filter with mask\n",
    "mask = nums > 5\n",
    "print(\"Nums > 5: \", nums[mask])"
   ]
  },
  {
   "cell_type": "markdown",
   "metadata": {},
   "source": [
    "Fancy Indexing vs np.where()"
   ]
  },
  {
   "cell_type": "code",
   "execution_count": 19,
   "metadata": {},
   "outputs": [
    {
     "name": "stdout",
     "output_type": "stream",
     "text": [
      "[1 3 5]\n",
      "NP where:  [1 2 3 4]\n"
     ]
    }
   ],
   "source": [
    "indices = [0,2,4]\n",
    "print(nums[indices])\n",
    "\n",
    "where_result = np.where(nums < 5)\n",
    "print(\"NP where: \", nums[where_result])"
   ]
  },
  {
   "cell_type": "code",
   "execution_count": 23,
   "metadata": {},
   "outputs": [
    {
     "name": "stdout",
     "output_type": "stream",
     "text": [
      "['2' '2' '2' '2' '2' '2' '1' '1' '1' '1']\n"
     ]
    }
   ],
   "source": [
    "condition_array = np.where(nums > 6, \"1\", \"2\")\n",
    "print(condition_array)"
   ]
  },
  {
   "cell_type": "markdown",
   "metadata": {},
   "source": [
    "Add & Remove Data"
   ]
  },
  {
   "cell_type": "code",
   "execution_count": 25,
   "metadata": {},
   "outputs": [
    {
     "name": "stdout",
     "output_type": "stream",
     "text": [
      "[1 3 5 2 4 6]\n"
     ]
    }
   ],
   "source": [
    "arr1 = np.array([1,3,5])\n",
    "arr2 = np.array([2,4,6])\n",
    "combined = np.concatenate((arr1, arr2)) # incorrect way -> arr1 + arr2\n",
    "print(combined)"
   ]
  },
  {
   "cell_type": "markdown",
   "metadata": {},
   "source": [
    "Array Compatibility"
   ]
  },
  {
   "cell_type": "code",
   "execution_count": 28,
   "metadata": {},
   "outputs": [
    {
     "name": "stdout",
     "output_type": "stream",
     "text": [
      "Compatibility Shapes:  False\n"
     ]
    }
   ],
   "source": [
    "a = np.array([2,4,6])\n",
    "b = np.array([1,3,5,7])\n",
    "c = np.array([7,8,9])\n",
    "print(\"Compatibility Shapes: \", a.shape == b.shape)"
   ]
  },
  {
   "cell_type": "code",
   "execution_count": 31,
   "metadata": {},
   "outputs": [
    {
     "name": "stdout",
     "output_type": "stream",
     "text": [
      "With new Row:  [[1 2]\n",
      " [3 4]\n",
      " [5 6]\n",
      " [7 8]]\n",
      "With new Column:  [[ 1  2  9]\n",
      " [ 3  4 10]\n",
      " [ 5  6 11]]\n"
     ]
    }
   ],
   "source": [
    "og = np.array([[1,2], [3,4], [5,6]])\n",
    "new_row = np.array([[7,8]])\n",
    "\n",
    "with_new_row = np.vstack((og ,new_row))\n",
    "print(\"With new Row: \", with_new_row)\n",
    "\n",
    "new_col = np.array([[9], [10], [11]])\n",
    "with_new_col = np.hstack((og , new_col))\n",
    "print(\"With new Column: \", with_new_col)"
   ]
  },
  {
   "cell_type": "markdown",
   "metadata": {},
   "source": [
    "DELETE"
   ]
  },
  {
   "cell_type": "code",
   "execution_count": 34,
   "metadata": {},
   "outputs": [
    {
     "name": "stdout",
     "output_type": "stream",
     "text": [
      "Array after deletion:  [1 2 3 5]\n"
     ]
    }
   ],
   "source": [
    "arr = np.array([1,2,3,4,5])\n",
    "deleted = np.delete(arr, 3) # array after deletion\n",
    "print(\"Array after deletion: \",deleted)"
   ]
  }
 ],
 "metadata": {
  "kernelspec": {
   "display_name": ".venv",
   "language": "python",
   "name": "python3"
  },
  "language_info": {
   "codemirror_mode": {
    "name": "ipython",
    "version": 3
   },
   "file_extension": ".py",
   "mimetype": "text/x-python",
   "name": "python",
   "nbconvert_exporter": "python",
   "pygments_lexer": "ipython3",
   "version": "3.12.4"
  }
 },
 "nbformat": 4,
 "nbformat_minor": 2
}
