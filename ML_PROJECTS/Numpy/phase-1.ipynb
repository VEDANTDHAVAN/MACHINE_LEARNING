{
 "cells": [
  {
   "cell_type": "markdown",
   "metadata": {},
   "source": [
    "## Numpy Basics  "
   ]
  },
  {
   "cell_type": "code",
   "execution_count": 2,
   "metadata": {},
   "outputs": [],
   "source": [
    "import numpy as np"
   ]
  },
  {
   "cell_type": "markdown",
   "metadata": {},
   "source": [
    "Creating array from lists"
   ]
  },
  {
   "cell_type": "code",
   "execution_count": null,
   "metadata": {},
   "outputs": [
    {
     "name": "stdout",
     "output_type": "stream",
     "text": [
      "1D Array:  [1 2 3 4 5 6]\n",
      "2D Array:  [[1 2 3]\n",
      " [4 5 6]]\n"
     ]
    }
   ],
   "source": [
    "arr_1d = np.array([1,2,3,4,5,6])\n",
    "print(\"1D Array: \", arr_1d)\n",
    "\n",
    "arr_2d = np.array([[1,2,3], [4,5,6]])\n",
    "print(\"2D Array: \", arr_2d)"
   ]
  },
  {
   "cell_type": "markdown",
   "metadata": {},
   "source": [
    "LIST VS NUMPY"
   ]
  },
  {
   "cell_type": "code",
   "execution_count": 5,
   "metadata": {},
   "outputs": [
    {
     "name": "stdout",
     "output_type": "stream",
     "text": [
      "Python List Multiplication:  [1, 2, 3, 1, 2, 3]\n",
      "Python Array Multiplication:  [2 4 6]\n",
      "\n",
      " List Operation Time=  0.009868860244750977\n",
      "\n",
      " Numpy Operation Time=  0.0011000633239746094\n"
     ]
    }
   ],
   "source": [
    "py_list = [1,2,3]\n",
    "print(\"Python List Multiplication: \", py_list*2)\n",
    "\n",
    "np_array = np.array([1,2,3])\n",
    "print(\"Python Array Multiplication: \", np_array*2)\n",
    "\n",
    "import time\n",
    "start = time.time()\n",
    "py_list = [i*2 for i in range(100000)]\n",
    "print(\"\\n List Operation Time= \", time.time() - start)\n",
    "\n",
    "start = time.time()\n",
    "np_array = np.arange(100000)\n",
    "print(\"\\n Numpy Operation Time= \", time.time() - start)"
   ]
  },
  {
   "cell_type": "markdown",
   "metadata": {},
   "source": [
    "### Creating Array From Scratch"
   ]
  },
  {
   "cell_type": "code",
   "execution_count": 14,
   "metadata": {},
   "outputs": [
    {
     "name": "stdout",
     "output_type": "stream",
     "text": [
      "random Array: \n",
      " [[0.72625338 0.39510726 0.80065956]\n",
      " [0.52040925 0.8051946  0.00954179]\n",
      " [0.84746384 0.93830758 0.67611211]]\n",
      "Sequence: \n",
      " [ 0  2  4  6  8 10 12 14]\n"
     ]
    }
   ],
   "source": [
    "\"\"\"zeros = np.zeros((3,4))\n",
    "print(\"zeros array: \\n\", zeros)\n",
    "\n",
    "ones = np.ones((3,2))\n",
    "print(\"ones array: \\n\", ones)\n",
    "\n",
    "full = np.full((2,2), 6)\n",
    "print(\"full array: \\n\", full)\"\"\"\n",
    "\n",
    "random = np.random.random((3,3))\n",
    "print(\"random Array: \\n\", random)\n",
    "\n",
    "sequence = np.arange(0, 15, 2)\n",
    "print(\"Sequence: \\n\", sequence)"
   ]
  },
  {
   "cell_type": "markdown",
   "metadata": {},
   "source": [
    "VECTOR, MATRIX & TENSOR"
   ]
  },
  {
   "cell_type": "code",
   "execution_count": 18,
   "metadata": {},
   "outputs": [
    {
     "name": "stdout",
     "output_type": "stream",
     "text": [
      "Vector:  [1 2 3 4]\n",
      "Matrix: \n",
      " [[1 2 3]\n",
      " [4 5 6]]\n",
      "Tensor: \n",
      " [[[ 1  2]\n",
      "  [ 2  3]\n",
      "  [ 3  4]]\n",
      "\n",
      " [[ 5  6]\n",
      "  [ 7  8]\n",
      "  [ 9 10]]]\n"
     ]
    }
   ],
   "source": [
    "vector = np.array([1,2,3,4])\n",
    "print(\"Vector: \",vector)\n",
    "\n",
    "matrix = np.array([[1,2,3], [4,5,6]])\n",
    "print(\"Matrix: \\n\",matrix)\n",
    "\n",
    "tensor = np.array([[[1,2], [2,3], [3,4]],\n",
    "                   [[5,6], [7,8], [9,10]]])\n",
    "print(\"Tensor: \\n\", tensor)"
   ]
  },
  {
   "cell_type": "markdown",
   "metadata": {},
   "source": [
    "### Array Properties"
   ]
  },
  {
   "cell_type": "code",
   "execution_count": 23,
   "metadata": {},
   "outputs": [
    {
     "name": "stdout",
     "output_type": "stream",
     "text": [
      "Shape of array:  (2, 3)\n",
      "Dimension:  2\n",
      "size:  6\n",
      "Dtype:  int64\n"
     ]
    }
   ],
   "source": [
    "arr = np.array([[1,2,3],\n",
    "                [4,5,6]])\n",
    "print(\"Shape of array: \", arr.shape)\n",
    "print(\"Dimension: \", arr.ndim)\n",
    "print(\"size: \", arr.size)\n",
    "print(\"Dtype: \", arr.dtype)"
   ]
  },
  {
   "cell_type": "markdown",
   "metadata": {},
   "source": [
    "ARRAY Reshaping"
   ]
  },
  {
   "cell_type": "code",
   "execution_count": null,
   "metadata": {},
   "outputs": [
    {
     "name": "stdout",
     "output_type": "stream",
     "text": [
      "original array: [0 1 2 3 4 5 6 7 8 9]\n",
      "Reshaped Array:  [[0 1]\n",
      " [2 3]\n",
      " [4 5]\n",
      " [6 7]\n",
      " [8 9]]\n",
      "\n",
      " Flattened Array:  [0 1 2 3 4 5 6 7 8 9]\n",
      "Raveled Array:  [0 1 2 3 4 5 6 7 8 9]\n",
      "Transposed Array: \n",
      " [[0 2 4 6 8]\n",
      " [1 3 5 7 9]]\n"
     ]
    }
   ],
   "source": [
    "arr = np.arange(10)\n",
    "print(\"original array:\", arr)\n",
    "\n",
    "reshaped = arr.reshape((5,2))\n",
    "print(\"Reshaped Array: \", reshaped)\n",
    "\n",
    "flattened = reshaped.flatten()\n",
    "print(\"\\n Flattened Array: \", flattened)\n",
    "\n",
    "# ravel returns view, instead of copy\n",
    "raveled = reshaped.ravel()\n",
    "print(\"Raveled Array: \", raveled)\n",
    "\n",
    "# Transpose\n",
    "transpose = reshaped.T\n",
    "print(\"Transposed Array: \\n\", transpose)"
   ]
  }
 ],
 "metadata": {
  "kernelspec": {
   "display_name": ".venv",
   "language": "python",
   "name": "python3"
  },
  "language_info": {
   "codemirror_mode": {
    "name": "ipython",
    "version": 3
   },
   "file_extension": ".py",
   "mimetype": "text/x-python",
   "name": "python",
   "nbconvert_exporter": "python",
   "pygments_lexer": "ipython3",
   "version": "3.12.4"
  }
 },
 "nbformat": 4,
 "nbformat_minor": 2
}
